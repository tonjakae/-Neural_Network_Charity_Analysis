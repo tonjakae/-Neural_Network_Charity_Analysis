{
 "cells": [
  {
   "cell_type": "code",
   "execution_count": 1,
   "metadata": {},
   "outputs": [],
   "source": [
    "# Import our dependencies\n",
    "import pandas as pd\n",
    "import matplotlib as plt\n",
    "from sklearn.datasets import make_blobs\n",
    "import sklearn as skl\n",
    "import tensorflow as tf"
   ]
  },
  {
   "cell_type": "code",
   "execution_count": 2,
   "metadata": {},
   "outputs": [
    {
     "data": {
      "text/plain": [
       "<AxesSubplot:xlabel='Feature 1', ylabel='Feature 2'>"
      ]
     },
     "execution_count": 2,
     "metadata": {},
     "output_type": "execute_result"
    },
    {
     "data": {
      "image/png": "[encoded data removed]",
      "text/plain": [
       "<Figure size 432x288 with 2 Axes>"
      ]
     },
     "metadata": {
      "needs_background": "light"
     },
     "output_type": "display_data"
    }
   ],
   "source": [
    "# Generate dummy dataset\n",
    "X, y = make_blobs(n_samples=1000, centers=2, n_features=2, random_state=78)\n",
    "\n",
    "# Creating a DataFrame with the dummy data\n",
    "df = pd.DataFrame(X, columns=[\"Feature 1\", \"Feature 2\"])\n",
    "df[\"Target\"] = y\n",
    "\n",
    "# Plotting the dummy data\n",
    "df.plot.scatter(x=\"Feature 1\", y=\"Feature 2\", c=\"Target\", colormap=\"winter\")"
   ]
  },
  {
   "cell_type": "code",
   "execution_count": 3,
   "metadata": {},
   "outputs": [],
   "source": [
    "# Use sklearn to split dataset\n",
    "from sklearn.model_selection import train_test_split\n",
    "X_train, X_test, y_train, y_test = train_test_split(X, y, random_state=78)"
   ]
  },
  {
   "cell_type": "code",
   "execution_count": 4,
   "metadata": {},
   "outputs": [],
   "source": [
    "# Create scaler instance\n",
    "X_scaler = skl.preprocessing.StandardScaler()\n",
    "\n",
    "# Fit the scaler\n",
    "X_scaler.fit(X_train)\n",
    "\n",
    "# Scale the data\n",
    "X_train_scaled = X_scaler.transform(X_train)\n",
    "X_test_scaled = X_scaler.transform(X_test)"
   ]
  },
  {
   "cell_type": "code",
   "execution_count": 5,
   "metadata": {},
   "outputs": [],
   "source": [
    "# Create the Keras Sequential model\n",
    "nn_model = tf.keras.models.Sequential()"
   ]
  },
  {
   "cell_type": "code",
   "execution_count": 6,
   "metadata": {},
   "outputs": [],
   "source": [
    "# Add our first Dense layer, including the input layer\n",
    "nn_model.add(tf.keras.layers.Dense(units=1, activation=\"relu\", input_dim=2))"
   ]
  },
  {
   "cell_type": "code",
   "execution_count": 7,
   "metadata": {},
   "outputs": [],
   "source": [
    "# Add the output layer that uses a probability activation function\n",
    "nn_model.add(tf.keras.layers.Dense(units=1, activation=\"sigmoid\"))"
   ]
  },
  {
   "cell_type": "code",
   "execution_count": 8,
   "metadata": {},
   "outputs": [
    {
     "name": "stdout",
     "output_type": "stream",
     "text": [
      "Model: \"sequential\"\n",
      "_________________________________________________________________\n",
      " Layer (type)                Output Shape              Param #   \n",
      "=================================================================\n",
      " dense (Dense)               (None, 1)                 3         \n",
      "                                                                 \n",
      " dense_1 (Dense)             (None, 1)                 2         \n",
      "                                                                 \n",
      "=================================================================\n",
      "Total params: 5\n",
      "Trainable params: 5\n",
      "Non-trainable params: 0\n",
      "_________________________________________________________________\n"
     ]
    }
   ],
   "source": [
    "# Check the structure of the Sequential model\n",
    "nn_model.summary()"
   ]
  },
  {
   "cell_type": "code",
   "execution_count": 9,
   "metadata": {},
   "outputs": [],
   "source": [
    "# Compile the Sequential model together and customize metrics\n",
    "nn_model.compile(loss=\"binary_crossentropy\", optimizer=\"adam\", metrics=[\"accuracy\"])"
   ]
  },
  {
   "cell_type": "code",
   "execution_count": 10,
   "metadata": {},
   "outputs": [
    {
     "name": "stdout",
     "output_type": "stream",
     "text": [
      "Epoch 1/100\n",
      "24/24 [==============================] - 1s 1ms/step - loss: 0.5917 - accuracy: 0.7800\n",
      "Epoch 2/100\n",
      "24/24 [==============================] - 0s 719us/step - loss: 0.5818 - accuracy: 0.7920\n",
      "Epoch 3/100\n",
      "24/24 [==============================] - 0s 782us/step - loss: 0.5720 - accuracy: 0.8013\n",
      "Epoch 4/100\n",
      "24/24 [==============================] - 0s 820us/step - loss: 0.5620 - accuracy: 0.8147\n",
      "Epoch 5/100\n",
      "24/24 [==============================] - 0s 867us/step - loss: 0.5520 - accuracy: 0.8200\n",
      "Epoch 6/100\n",
      "24/24 [==============================] - 0s 781us/step - loss: 0.5419 - accuracy: 0.8200\n",
      "Epoch 7/100\n",
      "24/24 [==============================] - 0s 970us/step - loss: 0.5317 - accuracy: 0.8320\n",
      "Epoch 8/100\n",
      "24/24 [==============================] - 0s 1ms/step - loss: 0.5215 - accuracy: 0.8453\n",
      "Epoch 9/100\n",
      "24/24 [==============================] - 0s 868us/step - loss: 0.5113 - accuracy: 0.8520\n",
      "Epoch 10/100\n",
      "24/24 [==============================] - 0s 869us/step - loss: 0.5013 - accuracy: 0.8587\n",
      "Epoch 11/100\n",
      "24/24 [==============================] - 0s 1ms/step - loss: 0.4915 - accuracy: 0.8680\n",
      "Epoch 12/100\n",
      "24/24 [==============================] - 0s 737us/step - loss: 0.4819 - accuracy: 0.8747\n",
      "Epoch 13/100\n",
      "24/24 [==============================] - 0s 901us/step - loss: 0.4721 - accuracy: 0.8773\n",
      "Epoch 14/100\n",
      "24/24 [==============================] - 0s 1ms/step - loss: 0.4625 - accuracy: 0.8853\n",
      "Epoch 15/100\n",
      "24/24 [==============================] - 0s 781us/step - loss: 0.4530 - accuracy: 0.8880\n",
      "Epoch 16/100\n",
      "24/24 [==============================] - 0s 955us/step - loss: 0.4437 - accuracy: 0.8907\n",
      "Epoch 17/100\n",
      "24/24 [==============================] - 0s 999us/step - loss: 0.4345 - accuracy: 0.8907\n",
      "Epoch 18/100\n",
      "24/24 [==============================] - 0s 1ms/step - loss: 0.4256 - accuracy: 0.8920\n",
      "Epoch 19/100\n",
      "24/24 [==============================] - 0s 964us/step - loss: 0.4169 - accuracy: 0.8973\n",
      "Epoch 20/100\n",
      "24/24 [==============================] - 0s 1ms/step - loss: 0.4084 - accuracy: 0.9027\n",
      "Epoch 21/100\n",
      "24/24 [==============================] - 0s 894us/step - loss: 0.4001 - accuracy: 0.9067\n",
      "Epoch 22/100\n",
      "24/24 [==============================] - 0s 1ms/step - loss: 0.3920 - accuracy: 0.9120\n",
      "Epoch 23/100\n",
      "24/24 [==============================] - 0s 1ms/step - loss: 0.3842 - accuracy: 0.9147\n",
      "Epoch 24/100\n",
      "24/24 [==============================] - 0s 1ms/step - loss: 0.3764 - accuracy: 0.9200\n",
      "Epoch 25/100\n",
      "24/24 [==============================] - 0s 904us/step - loss: 0.3687 - accuracy: 0.9253\n",
      "Epoch 26/100\n",
      "24/24 [==============================] - 0s 737us/step - loss: 0.3613 - accuracy: 0.9267\n",
      "Epoch 27/100\n",
      "24/24 [==============================] - 0s 737us/step - loss: 0.3539 - accuracy: 0.9307\n",
      "Epoch 28/100\n",
      "24/24 [==============================] - 0s 994us/step - loss: 0.3466 - accuracy: 0.9333\n",
      "Epoch 29/100\n",
      "24/24 [==============================] - 0s 915us/step - loss: 0.3394 - accuracy: 0.9400\n",
      "Epoch 30/100\n",
      "24/24 [==============================] - 0s 3ms/step - loss: 0.3325 - accuracy: 0.9427\n",
      "Epoch 31/100\n",
      "24/24 [==============================] - 0s 1ms/step - loss: 0.3255 - accuracy: 0.9440\n",
      "Epoch 32/100\n",
      "24/24 [==============================] - 0s 1ms/step - loss: 0.3186 - accuracy: 0.9440\n",
      "Epoch 33/100\n",
      "24/24 [==============================] - 0s 1ms/step - loss: 0.3118 - accuracy: 0.9467\n",
      "Epoch 34/100\n",
      "24/24 [==============================] - 0s 954us/step - loss: 0.3051 - accuracy: 0.9493\n",
      "Epoch 35/100\n",
      "24/24 [==============================] - 0s 1ms/step - loss: 0.2985 - accuracy: 0.9507\n",
      "Epoch 36/100\n",
      "24/24 [==============================] - 0s 1ms/step - loss: 0.2920 - accuracy: 0.9520\n",
      "Epoch 37/100\n",
      "24/24 [==============================] - 0s 867us/step - loss: 0.2854 - accuracy: 0.9533\n",
      "Epoch 38/100\n",
      "24/24 [==============================] - 0s 938us/step - loss: 0.2791 - accuracy: 0.9533\n",
      "Epoch 39/100\n",
      "24/24 [==============================] - 0s 777us/step - loss: 0.2730 - accuracy: 0.9560\n",
      "Epoch 40/100\n",
      "24/24 [==============================] - 0s 837us/step - loss: 0.2670 - accuracy: 0.9573\n",
      "Epoch 41/100\n",
      "24/24 [==============================] - 0s 709us/step - loss: 0.2612 - accuracy: 0.9587\n",
      "Epoch 42/100\n",
      "24/24 [==============================] - 0s 782us/step - loss: 0.2553 - accuracy: 0.9640\n",
      "Epoch 43/100\n",
      "24/24 [==============================] - 0s 717us/step - loss: 0.2496 - accuracy: 0.9640\n",
      "Epoch 44/100\n",
      "24/24 [==============================] - 0s 869us/step - loss: 0.2441 - accuracy: 0.9653\n",
      "Epoch 45/100\n",
      "24/24 [==============================] - 0s 824us/step - loss: 0.2388 - accuracy: 0.9680\n",
      "Epoch 46/100\n",
      "24/24 [==============================] - 0s 1ms/step - loss: 0.2335 - accuracy: 0.9693\n",
      "Epoch 47/100\n",
      "24/24 [==============================] - 0s 728us/step - loss: 0.2285 - accuracy: 0.9707\n",
      "Epoch 48/100\n",
      "24/24 [==============================] - 0s 958us/step - loss: 0.2235 - accuracy: 0.9720\n",
      "Epoch 49/100\n",
      "24/24 [==============================] - 0s 930us/step - loss: 0.2187 - accuracy: 0.9733\n",
      "Epoch 50/100\n",
      "24/24 [==============================] - 0s 650us/step - loss: 0.2140 - accuracy: 0.9773\n",
      "Epoch 51/100\n",
      "24/24 [==============================] - 0s 864us/step - loss: 0.2093 - accuracy: 0.9800\n",
      "Epoch 52/100\n",
      "24/24 [==============================] - 0s 877us/step - loss: 0.2046 - accuracy: 0.9813\n",
      "Epoch 53/100\n",
      "24/24 [==============================] - 0s 859us/step - loss: 0.2001 - accuracy: 0.9813\n",
      "Epoch 54/100\n",
      "24/24 [==============================] - 0s 1ms/step - loss: 0.1956 - accuracy: 0.9813\n",
      "Epoch 55/100\n",
      "24/24 [==============================] - 0s 1ms/step - loss: 0.1912 - accuracy: 0.9813\n",
      "Epoch 56/100\n",
      "24/24 [==============================] - 0s 1ms/step - loss: 0.1871 - accuracy: 0.9827\n",
      "Epoch 57/100\n",
      "24/24 [==============================] - 0s 774us/step - loss: 0.1828 - accuracy: 0.9853\n",
      "Epoch 58/100\n",
      "24/24 [==============================] - 0s 1ms/step - loss: 0.1787 - accuracy: 0.9853\n",
      "Epoch 59/100\n",
      "24/24 [==============================] - 0s 1ms/step - loss: 0.1747 - accuracy: 0.9853\n",
      "Epoch 60/100\n",
      "24/24 [==============================] - 0s 694us/step - loss: 0.1707 - accuracy: 0.9853\n",
      "Epoch 61/100\n",
      "24/24 [==============================] - 0s 908us/step - loss: 0.1670 - accuracy: 0.9867\n",
      "Epoch 62/100\n",
      "24/24 [==============================] - 0s 879us/step - loss: 0.1633 - accuracy: 0.9867\n",
      "Epoch 63/100\n",
      "24/24 [==============================] - 0s 781us/step - loss: 0.1597 - accuracy: 0.9880\n",
      "Epoch 64/100\n",
      "24/24 [==============================] - 0s 1ms/step - loss: 0.1563 - accuracy: 0.9880\n",
      "Epoch 65/100\n",
      "24/24 [==============================] - 0s 930us/step - loss: 0.1529 - accuracy: 0.9880\n",
      "Epoch 66/100\n",
      "24/24 [==============================] - 0s 954us/step - loss: 0.1496 - accuracy: 0.9880\n",
      "Epoch 67/100\n",
      "24/24 [==============================] - 0s 699us/step - loss: 0.1464 - accuracy: 0.9893\n",
      "Epoch 68/100\n",
      "24/24 [==============================] - 0s 898us/step - loss: 0.1433 - accuracy: 0.9893\n",
      "Epoch 69/100\n",
      "24/24 [==============================] - 0s 916us/step - loss: 0.1403 - accuracy: 0.9907\n",
      "Epoch 70/100\n",
      "24/24 [==============================] - 0s 867us/step - loss: 0.1374 - accuracy: 0.9920\n",
      "Epoch 71/100\n",
      "24/24 [==============================] - 0s 869us/step - loss: 0.1346 - accuracy: 0.9920\n",
      "Epoch 72/100\n",
      "24/24 [==============================] - 0s 954us/step - loss: 0.1318 - accuracy: 0.9920\n",
      "Epoch 73/100\n",
      "24/24 [==============================] - 0s 981us/step - loss: 0.1292 - accuracy: 0.9933\n",
      "Epoch 74/100\n",
      "24/24 [==============================] - 0s 1ms/step - loss: 0.1265 - accuracy: 0.9947\n",
      "Epoch 75/100\n",
      "24/24 [==============================] - 0s 956us/step - loss: 0.1240 - accuracy: 0.9947\n",
      "Epoch 76/100\n",
      "24/24 [==============================] - 0s 1ms/step - loss: 0.1215 - accuracy: 0.9960\n",
      "Epoch 77/100\n",
      "24/24 [==============================] - 0s 1ms/step - loss: 0.1192 - accuracy: 0.9960\n",
      "Epoch 78/100\n",
      "24/24 [==============================] - 0s 1ms/step - loss: 0.1168 - accuracy: 0.9973\n",
      "Epoch 79/100\n",
      "24/24 [==============================] - 0s 772us/step - loss: 0.1145 - accuracy: 0.9973\n",
      "Epoch 80/100\n",
      "24/24 [==============================] - 0s 923us/step - loss: 0.1124 - accuracy: 0.9973\n",
      "Epoch 81/100\n",
      "24/24 [==============================] - 0s 743us/step - loss: 0.1102 - accuracy: 0.9973\n",
      "Epoch 82/100\n",
      "24/24 [==============================] - 0s 892us/step - loss: 0.1081 - accuracy: 0.9973\n",
      "Epoch 83/100\n",
      "24/24 [==============================] - 0s 799us/step - loss: 0.1061 - accuracy: 0.9973\n",
      "Epoch 84/100\n",
      "24/24 [==============================] - 0s 691us/step - loss: 0.1041 - accuracy: 0.9987\n",
      "Epoch 85/100\n",
      "24/24 [==============================] - 0s 860us/step - loss: 0.1022 - accuracy: 0.9987\n",
      "Epoch 86/100\n",
      "24/24 [==============================] - 0s 850us/step - loss: 0.1004 - accuracy: 1.0000\n",
      "Epoch 87/100\n",
      "24/24 [==============================] - 0s 781us/step - loss: 0.0985 - accuracy: 1.0000\n",
      "Epoch 88/100\n",
      "24/24 [==============================] - 0s 701us/step - loss: 0.0968 - accuracy: 1.0000\n",
      "Epoch 89/100\n",
      "24/24 [==============================] - 0s 2ms/step - loss: 0.0951 - accuracy: 1.0000\n",
      "Epoch 90/100\n",
      "24/24 [==============================] - 0s 910us/step - loss: 0.0934 - accuracy: 1.0000\n",
      "Epoch 91/100\n",
      "24/24 [==============================] - 0s 938us/step - loss: 0.0917 - accuracy: 1.0000\n",
      "Epoch 92/100\n",
      "24/24 [==============================] - 0s 888us/step - loss: 0.0901 - accuracy: 1.0000\n",
      "Epoch 93/100\n",
      "24/24 [==============================] - 0s 824us/step - loss: 0.0885 - accuracy: 1.0000\n",
      "Epoch 94/100\n",
      "24/24 [==============================] - 0s 954us/step - loss: 0.0870 - accuracy: 1.0000\n",
      "Epoch 95/100\n",
      "24/24 [==============================] - 0s 794us/step - loss: 0.0855 - accuracy: 1.0000\n",
      "Epoch 96/100\n",
      "24/24 [==============================] - 0s 992us/step - loss: 0.0841 - accuracy: 1.0000\n",
      "Epoch 97/100\n",
      "24/24 [==============================] - 0s 777us/step - loss: 0.0827 - accuracy: 1.0000\n",
      "Epoch 98/100\n",
      "24/24 [==============================] - 0s 756us/step - loss: 0.0813 - accuracy: 1.0000\n",
      "Epoch 99/100\n",
      "24/24 [==============================] - 0s 820us/step - loss: 0.0800 - accuracy: 1.0000\n",
      "Epoch 100/100\n",
      "24/24 [==============================] - 0s 829us/step - loss: 0.0787 - accuracy: 1.0000\n"
     ]
    }
   ],
   "source": [
    "# Fit the model to the training data\n",
    "fit_model = nn_model.fit(X_train_scaled, y_train, epochs=100)"
   ]
  },
  {
   "cell_type": "code",
   "execution_count": 11,
   "metadata": {},
   "outputs": [
    {
     "data": {
      "text/plain": [
       "<AxesSubplot:>"
      ]
     },
     "execution_count": 11,
     "metadata": {},
     "output_type": "execute_result"
    },
    {
     "data": {
      "image/png": "[encoded data removed]",
      "text/plain": [
       "<Figure size 432x288 with 1 Axes>"
      ]
     },
     "metadata": {
      "needs_background": "light"
     },
     "output_type": "display_data"
    }
   ],
   "source": [
    "# Create a DataFrame containing training history\n",
    "history_df = pd.DataFrame(fit_model.history, index=range(1,len(fit_model.history[\"loss\"])+1))\n",
    "\n",
    "# Plot the loss\n",
    "history_df.plot(y=\"loss\")"
   ]
  },
  {
   "cell_type": "code",
   "execution_count": 12,
   "metadata": {},
   "outputs": [
    {
     "data": {
      "text/plain": [
       "<AxesSubplot:>"
      ]
     },
     "execution_count": 12,
     "metadata": {},
     "output_type": "execute_result"
    },
    {
     "data": {
      "image/png": "[encoded data removed]",
      "text/plain": [
       "<Figure size 432x288 with 1 Axes>"
      ]
     },
     "metadata": {
      "needs_background": "light"
     },
     "output_type": "display_data"
    }
   ],
   "source": [
    "# Plot the accuracy\n",
    "history_df.plot(y=\"accuracy\")"
   ]
  },
  {
   "cell_type": "code",
   "execution_count": 13,
   "metadata": {},
   "outputs": [
    {
     "name": "stdout",
     "output_type": "stream",
     "text": [
      "8/8 - 0s - loss: 0.0729 - accuracy: 1.0000 - 172ms/epoch - 22ms/step\n",
      "Loss: 0.07286641746759415, Accuracy: 1.0\n"
     ]
    }
   ],
   "source": [
    "# Evaluate the model using the test data\n",
    "model_loss, model_accuracy = nn_model.evaluate(X_test_scaled,y_test,verbose=2)\n",
    "print(f\"Loss: {model_loss}, Accuracy: {model_accuracy}\")"
   ]
  },
  {
   "cell_type": "code",
   "execution_count": 14,
   "metadata": {},
   "outputs": [
    {
     "data": {
      "text/plain": [
       "array([[0],\n",
       "       [1],\n",
       "       [0],\n",
       "       [1],\n",
       "       [0],\n",
       "       [0],\n",
       "       [1],\n",
       "       [1],\n",
       "       [1],\n",
       "       [0]])"
      ]
     },
     "execution_count": 14,
     "metadata": {},
     "output_type": "execute_result"
    }
   ],
   "source": [
    "# Predict the classification of a new set of blob data\n",
    "new_X, new_Y = make_blobs(n_samples=10, centers=2, n_features=2, random_state=78)\n",
    "new_X_scaled = X_scaler.transform(new_X)\n",
    "(nn_model.predict(new_X_scaled) > 0.5).astype(\"int32\")"
   ]
  },
  {
   "cell_type": "code",
   "execution_count": null,
   "metadata": {},
   "outputs": [],
   "source": [
    "# Module 19.2.4"
   ]
  },
  {
   "cell_type": "code",
   "execution_count": 15,
   "metadata": {},
   "outputs": [
    {
     "data": {
      "text/plain": [
       "<AxesSubplot:xlabel='Feature 1', ylabel='Feature 2'>"
      ]
     },
     "execution_count": 15,
     "metadata": {},
     "output_type": "execute_result"
    },
    {
     "data": {
      "image/png": "[encoded data removed]",
      "text/plain": [
       "<Figure size 432x288 with 2 Axes>"
      ]
     },
     "metadata": {
      "needs_background": "light"
     },
     "output_type": "display_data"
    }
   ],
   "source": [
    "from sklearn.datasets import make_moons\n",
    "\n",
    "# Creating dummy nonlinear data\n",
    "X_moons, y_moons = make_moons(n_samples=1000, noise=0.08, random_state=78)\n",
    "\n",
    "# Transforming y_moons to a vertical vector\n",
    "y_moons = y_moons.reshape(-1, 1)\n",
    "\n",
    "# Creating a DataFrame to plot the nonlinear dummy data\n",
    "df_moons = pd.DataFrame(X_moons, columns=[\"Feature 1\", \"Feature 2\"])\n",
    "df_moons[\"Target\"] = y_moons\n",
    "\n",
    "# Plot the nonlinear dummy data\n",
    "df_moons.plot.scatter(x=\"Feature 1\",y=\"Feature 2\", c=\"Target\",colormap=\"winter\")\n"
   ]
  },
  {
   "cell_type": "code",
   "execution_count": 16,
   "metadata": {},
   "outputs": [],
   "source": [
    "# Create training and testing sets\n",
    "X_moon_train, X_moon_test, y_moon_train, y_moon_test = train_test_split(\n",
    "    X_moons, y_moons, random_state=78\n",
    ")\n",
    "\n",
    "# Create the scaler instance\n",
    "X_moon_scaler = skl.preprocessing.StandardScaler()\n",
    "\n",
    "# Fit the scaler\n",
    "X_moon_scaler.fit(X_moon_train)\n",
    "\n",
    "# Scale the data\n",
    "X_moon_train_scaled = X_moon_scaler.transform(X_moon_train)\n",
    "X_moon_test_scaled = X_moon_scaler.transform(X_moon_test)"
   ]
  },
  {
   "cell_type": "code",
   "execution_count": 17,
   "metadata": {},
   "outputs": [
    {
     "name": "stdout",
     "output_type": "stream",
     "text": [
      "Epoch 1/100\n",
      "24/24 [==============================] - 0s 867us/step - loss: 1.2555 - accuracy: 0.4107\n",
      "Epoch 2/100\n",
      "24/24 [==============================] - 0s 1ms/step - loss: 1.0745 - accuracy: 0.4467\n",
      "Epoch 3/100\n",
      "24/24 [==============================] - 0s 1ms/step - loss: 0.9588 - accuracy: 0.4800\n",
      "Epoch 4/100\n",
      "24/24 [==============================] - 0s 1ms/step - loss: 0.8854 - accuracy: 0.5013\n",
      "Epoch 5/100\n",
      "24/24 [==============================] - 0s 1ms/step - loss: 0.8314 - accuracy: 0.5240\n",
      "Epoch 6/100\n",
      "24/24 [==============================] - 0s 1ms/step - loss: 0.7909 - accuracy: 0.5440\n",
      "Epoch 7/100\n",
      "24/24 [==============================] - 0s 1ms/step - loss: 0.7573 - accuracy: 0.5640\n",
      "Epoch 8/100\n",
      "24/24 [==============================] - 0s 1ms/step - loss: 0.7289 - accuracy: 0.5840\n",
      "Epoch 9/100\n",
      "24/24 [==============================] - 0s 1ms/step - loss: 0.7037 - accuracy: 0.5987\n",
      "Epoch 10/100\n",
      "24/24 [==============================] - 0s 997us/step - loss: 0.6818 - accuracy: 0.6107\n",
      "Epoch 11/100\n",
      "24/24 [==============================] - 0s 1ms/step - loss: 0.6619 - accuracy: 0.6173\n",
      "Epoch 12/100\n",
      "24/24 [==============================] - 0s 1ms/step - loss: 0.6436 - accuracy: 0.6227\n",
      "Epoch 13/100\n",
      "24/24 [==============================] - 0s 1ms/step - loss: 0.6269 - accuracy: 0.6347\n",
      "Epoch 14/100\n",
      "24/24 [==============================] - 0s 1ms/step - loss: 0.6108 - accuracy: 0.6440\n",
      "Epoch 15/100\n",
      "24/24 [==============================] - 0s 1ms/step - loss: 0.5963 - accuracy: 0.6480\n",
      "Epoch 16/100\n",
      "24/24 [==============================] - 0s 1ms/step - loss: 0.5817 - accuracy: 0.6560\n",
      "Epoch 17/100\n",
      "24/24 [==============================] - 0s 1ms/step - loss: 0.5671 - accuracy: 0.6640\n",
      "Epoch 18/100\n",
      "24/24 [==============================] - 0s 2ms/step - loss: 0.5536 - accuracy: 0.6733\n",
      "Epoch 19/100\n",
      "24/24 [==============================] - 0s 1ms/step - loss: 0.5401 - accuracy: 0.6853\n",
      "Epoch 20/100\n",
      "24/24 [==============================] - 0s 1ms/step - loss: 0.5277 - accuracy: 0.6947\n",
      "Epoch 21/100\n",
      "24/24 [==============================] - 0s 1ms/step - loss: 0.5154 - accuracy: 0.7000\n",
      "Epoch 22/100\n",
      "24/24 [==============================] - 0s 2ms/step - loss: 0.5039 - accuracy: 0.7080\n",
      "Epoch 23/100\n",
      "24/24 [==============================] - 0s 2ms/step - loss: 0.4924 - accuracy: 0.7147\n",
      "Epoch 24/100\n",
      "24/24 [==============================] - 0s 2ms/step - loss: 0.4817 - accuracy: 0.7200\n",
      "Epoch 25/100\n",
      "24/24 [==============================] - 0s 2ms/step - loss: 0.4716 - accuracy: 0.7333\n",
      "Epoch 26/100\n",
      "24/24 [==============================] - 0s 2ms/step - loss: 0.4616 - accuracy: 0.7373\n",
      "Epoch 27/100\n",
      "24/24 [==============================] - 0s 3ms/step - loss: 0.4521 - accuracy: 0.7453\n",
      "Epoch 28/100\n",
      "24/24 [==============================] - 0s 2ms/step - loss: 0.4429 - accuracy: 0.7493\n",
      "Epoch 29/100\n",
      "24/24 [==============================] - 0s 2ms/step - loss: 0.4342 - accuracy: 0.7573\n",
      "Epoch 30/100\n",
      "24/24 [==============================] - 0s 2ms/step - loss: 0.4260 - accuracy: 0.7587\n",
      "Epoch 31/100\n",
      "24/24 [==============================] - 0s 2ms/step - loss: 0.4182 - accuracy: 0.7613\n",
      "Epoch 32/100\n",
      "24/24 [==============================] - 0s 1ms/step - loss: 0.4108 - accuracy: 0.7707\n",
      "Epoch 33/100\n",
      "24/24 [==============================] - 0s 1ms/step - loss: 0.4035 - accuracy: 0.7813\n",
      "Epoch 34/100\n",
      "24/24 [==============================] - 0s 1ms/step - loss: 0.3967 - accuracy: 0.7840\n",
      "Epoch 35/100\n",
      "24/24 [==============================] - 0s 1ms/step - loss: 0.3902 - accuracy: 0.7907\n",
      "Epoch 36/100\n",
      "24/24 [==============================] - 0s 2ms/step - loss: 0.3839 - accuracy: 0.7907\n",
      "Epoch 37/100\n",
      "24/24 [==============================] - 0s 956us/step - loss: 0.3775 - accuracy: 0.7947\n",
      "Epoch 38/100\n",
      "24/24 [==============================] - 0s 1ms/step - loss: 0.3717 - accuracy: 0.8000\n",
      "Epoch 39/100\n",
      "24/24 [==============================] - 0s 1ms/step - loss: 0.3661 - accuracy: 0.8040\n",
      "Epoch 40/100\n",
      "24/24 [==============================] - 0s 1ms/step - loss: 0.3606 - accuracy: 0.8093\n",
      "Epoch 41/100\n",
      "24/24 [==============================] - 0s 2ms/step - loss: 0.3555 - accuracy: 0.8147\n",
      "Epoch 42/100\n",
      "24/24 [==============================] - 0s 1ms/step - loss: 0.3506 - accuracy: 0.8200\n",
      "Epoch 43/100\n",
      "24/24 [==============================] - 0s 1ms/step - loss: 0.3461 - accuracy: 0.8240\n",
      "Epoch 44/100\n",
      "24/24 [==============================] - 0s 1ms/step - loss: 0.3419 - accuracy: 0.8267\n",
      "Epoch 45/100\n",
      "24/24 [==============================] - 0s 997us/step - loss: 0.3378 - accuracy: 0.8333\n",
      "Epoch 46/100\n",
      "24/24 [==============================] - 0s 1ms/step - loss: 0.3342 - accuracy: 0.8427\n",
      "Epoch 47/100\n",
      "24/24 [==============================] - 0s 1ms/step - loss: 0.3307 - accuracy: 0.8427\n",
      "Epoch 48/100\n",
      "24/24 [==============================] - 0s 1ms/step - loss: 0.3276 - accuracy: 0.8427\n",
      "Epoch 49/100\n",
      "24/24 [==============================] - 0s 1ms/step - loss: 0.3245 - accuracy: 0.8467\n",
      "Epoch 50/100\n",
      "24/24 [==============================] - 0s 2ms/step - loss: 0.3218 - accuracy: 0.8533\n",
      "Epoch 51/100\n",
      "24/24 [==============================] - 0s 1ms/step - loss: 0.3190 - accuracy: 0.8560\n",
      "Epoch 52/100\n",
      "24/24 [==============================] - 0s 2ms/step - loss: 0.3165 - accuracy: 0.8587\n",
      "Epoch 53/100\n",
      "24/24 [==============================] - 0s 2ms/step - loss: 0.3141 - accuracy: 0.8613\n",
      "Epoch 54/100\n",
      "24/24 [==============================] - 0s 2ms/step - loss: 0.3119 - accuracy: 0.8640\n",
      "Epoch 55/100\n",
      "24/24 [==============================] - 0s 2ms/step - loss: 0.3098 - accuracy: 0.8667\n",
      "Epoch 56/100\n",
      "24/24 [==============================] - 0s 1ms/step - loss: 0.3076 - accuracy: 0.8667\n",
      "Epoch 57/100\n",
      "24/24 [==============================] - 0s 1ms/step - loss: 0.3057 - accuracy: 0.8667\n",
      "Epoch 58/100\n",
      "24/24 [==============================] - 0s 999us/step - loss: 0.3038 - accuracy: 0.8680\n",
      "Epoch 59/100\n",
      "24/24 [==============================] - 0s 1ms/step - loss: 0.3020 - accuracy: 0.8693\n",
      "Epoch 60/100\n",
      "24/24 [==============================] - 0s 1ms/step - loss: 0.3004 - accuracy: 0.8707\n",
      "Epoch 61/100\n",
      "24/24 [==============================] - 0s 1ms/step - loss: 0.2988 - accuracy: 0.8707\n",
      "Epoch 62/100\n",
      "24/24 [==============================] - 0s 1ms/step - loss: 0.2973 - accuracy: 0.8707\n",
      "Epoch 63/100\n",
      "24/24 [==============================] - 0s 1ms/step - loss: 0.2958 - accuracy: 0.8720\n",
      "Epoch 64/100\n",
      "24/24 [==============================] - 0s 2ms/step - loss: 0.2944 - accuracy: 0.8720\n",
      "Epoch 65/100\n",
      "24/24 [==============================] - 0s 2ms/step - loss: 0.2931 - accuracy: 0.8733\n",
      "Epoch 66/100\n",
      "24/24 [==============================] - 0s 1ms/step - loss: 0.2918 - accuracy: 0.8733\n",
      "Epoch 67/100\n",
      "24/24 [==============================] - 0s 1ms/step - loss: 0.2905 - accuracy: 0.8733\n",
      "Epoch 68/100\n",
      "24/24 [==============================] - 0s 1ms/step - loss: 0.2893 - accuracy: 0.8733\n",
      "Epoch 69/100\n",
      "24/24 [==============================] - 0s 1ms/step - loss: 0.2882 - accuracy: 0.8733\n",
      "Epoch 70/100\n",
      "24/24 [==============================] - 0s 1ms/step - loss: 0.2871 - accuracy: 0.8733\n",
      "Epoch 71/100\n",
      "24/24 [==============================] - 0s 1ms/step - loss: 0.2861 - accuracy: 0.8760\n",
      "Epoch 72/100\n",
      "24/24 [==============================] - 0s 1ms/step - loss: 0.2849 - accuracy: 0.8773\n",
      "Epoch 73/100\n",
      "24/24 [==============================] - 0s 1ms/step - loss: 0.2840 - accuracy: 0.8800\n",
      "Epoch 74/100\n",
      "24/24 [==============================] - 0s 1ms/step - loss: 0.2830 - accuracy: 0.8813\n",
      "Epoch 75/100\n",
      "24/24 [==============================] - 0s 3ms/step - loss: 0.2821 - accuracy: 0.8813\n",
      "Epoch 76/100\n",
      "24/24 [==============================] - 0s 2ms/step - loss: 0.2811 - accuracy: 0.8827\n",
      "Epoch 77/100\n",
      "24/24 [==============================] - 0s 2ms/step - loss: 0.2804 - accuracy: 0.8827\n",
      "Epoch 78/100\n",
      "24/24 [==============================] - 0s 2ms/step - loss: 0.2794 - accuracy: 0.8840\n",
      "Epoch 79/100\n",
      "24/24 [==============================] - 0s 2ms/step - loss: 0.2786 - accuracy: 0.8853\n",
      "Epoch 80/100\n",
      "24/24 [==============================] - 0s 1ms/step - loss: 0.2778 - accuracy: 0.8880\n",
      "Epoch 81/100\n",
      "24/24 [==============================] - 0s 2ms/step - loss: 0.2770 - accuracy: 0.8880\n",
      "Epoch 82/100\n",
      "24/24 [==============================] - 0s 1ms/step - loss: 0.2763 - accuracy: 0.8880\n",
      "Epoch 83/100\n",
      "24/24 [==============================] - 0s 2ms/step - loss: 0.2756 - accuracy: 0.8893\n",
      "Epoch 84/100\n",
      "24/24 [==============================] - 0s 1ms/step - loss: 0.2749 - accuracy: 0.8893\n",
      "Epoch 85/100\n",
      "24/24 [==============================] - 0s 1ms/step - loss: 0.2742 - accuracy: 0.8893\n",
      "Epoch 86/100\n",
      "24/24 [==============================] - 0s 1ms/step - loss: 0.2736 - accuracy: 0.8907\n",
      "Epoch 87/100\n",
      "24/24 [==============================] - 0s 1ms/step - loss: 0.2730 - accuracy: 0.8920\n",
      "Epoch 88/100\n",
      "24/24 [==============================] - 0s 1ms/step - loss: 0.2724 - accuracy: 0.8920\n",
      "Epoch 89/100\n",
      "24/24 [==============================] - 0s 1ms/step - loss: 0.2718 - accuracy: 0.8920\n",
      "Epoch 90/100\n",
      "24/24 [==============================] - 0s 1ms/step - loss: 0.2713 - accuracy: 0.8920\n",
      "Epoch 91/100\n",
      "24/24 [==============================] - 0s 1ms/step - loss: 0.2707 - accuracy: 0.8933\n",
      "Epoch 92/100\n",
      "24/24 [==============================] - 0s 1ms/step - loss: 0.2701 - accuracy: 0.8933\n",
      "Epoch 93/100\n",
      "24/24 [==============================] - 0s 2ms/step - loss: 0.2696 - accuracy: 0.8933\n",
      "Epoch 94/100\n",
      "24/24 [==============================] - 0s 2ms/step - loss: 0.2691 - accuracy: 0.8933\n",
      "Epoch 95/100\n",
      "24/24 [==============================] - 0s 3ms/step - loss: 0.2686 - accuracy: 0.8933\n",
      "Epoch 96/100\n",
      "24/24 [==============================] - 0s 3ms/step - loss: 0.2681 - accuracy: 0.8933\n",
      "Epoch 97/100\n",
      "24/24 [==============================] - 0s 2ms/step - loss: 0.2677 - accuracy: 0.8933\n",
      "Epoch 98/100\n",
      "24/24 [==============================] - 0s 2ms/step - loss: 0.2672 - accuracy: 0.8933\n",
      "Epoch 99/100\n",
      "24/24 [==============================] - 0s 3ms/step - loss: 0.2669 - accuracy: 0.8933\n",
      "Epoch 100/100\n",
      "24/24 [==============================] - 0s 2ms/step - loss: 0.2664 - accuracy: 0.8933\n"
     ]
    }
   ],
   "source": [
    "# Training the model with the nonlinear data\n",
    "model_moon = nn_model.fit(X_moon_train_scaled, y_moon_train, epochs=100, shuffle=True)"
   ]
  },
  {
   "cell_type": "code",
   "execution_count": 18,
   "metadata": {},
   "outputs": [
    {
     "data": {
      "text/plain": [
       "<AxesSubplot:>"
      ]
     },
     "execution_count": 18,
     "metadata": {},
     "output_type": "execute_result"
    },
    {
     "data": {
      "image/png": "[encoded data removed]",
      "text/plain": [
       "<Figure size 432x288 with 1 Axes>"
      ]
     },
     "metadata": {
      "needs_background": "light"
     },
     "output_type": "display_data"
    }
   ],
   "source": [
    "# Create a DataFrame containing training history\n",
    "history_df = pd.DataFrame(model_moon.history, index=range(1,len(model_moon.history[\"loss\"])+1))\n",
    "\n",
    "# Plot the loss\n",
    "history_df.plot(y=\"loss\")"
   ]
  },
  {
   "cell_type": "code",
   "execution_count": 19,
   "metadata": {},
   "outputs": [
    {
     "data": {
      "text/plain": [
       "<AxesSubplot:>"
      ]
     },
     "execution_count": 19,
     "metadata": {},
     "output_type": "execute_result"
    },
    {
     "data": {
      "image/png": "[encoded data removed]",
      "text/plain": [
       "<Figure size 432x288 with 1 Axes>"
      ]
     },
     "metadata": {
      "needs_background": "light"
     },
     "output_type": "display_data"
    }
   ],
   "source": [
    "# Plot the accuracy\n",
    "history_df.plot(y=\"accuracy\")"
   ]
  },
  {
   "cell_type": "code",
   "execution_count": 20,
   "metadata": {},
   "outputs": [],
   "source": [
    "# Generate our new Sequential model\n",
    "new_model = tf.keras.models.Sequential()"
   ]
  },
  {
   "cell_type": "code",
   "execution_count": 21,
   "metadata": {},
   "outputs": [],
   "source": [
    "# Add the input and hidden layer\n",
    "number_inputs = 2\n",
    "number_hidden_nodes = 6\n",
    "\n",
    "new_model.add(tf.keras.layers.Dense(units=number_hidden_nodes, activation=\"relu\", input_dim=number_inputs))\n",
    "\n",
    "# Add the output layer that uses a probability activation function\n",
    "new_model.add(tf.keras.layers.Dense(units=1, activation=\"sigmoid\"))"
   ]
  },
  {
   "cell_type": "code",
   "execution_count": 22,
   "metadata": {},
   "outputs": [
    {
     "name": "stdout",
     "output_type": "stream",
     "text": [
      "Epoch 1/100\n",
      "24/24 [==============================] - 0s 607us/step - loss: 0.8818 - accuracy: 0.2613\n",
      "Epoch 2/100\n",
      "24/24 [==============================] - 0s 687us/step - loss: 0.8304 - accuracy: 0.2680\n",
      "Epoch 3/100\n",
      "24/24 [==============================] - 0s 698us/step - loss: 0.7842 - accuracy: 0.2733\n",
      "Epoch 4/100\n",
      "24/24 [==============================] - 0s 684us/step - loss: 0.7420 - accuracy: 0.2720\n",
      "Epoch 5/100\n",
      "24/24 [==============================] - 0s 3ms/step - loss: 0.7037 - accuracy: 0.2533\n",
      "Epoch 6/100\n",
      "24/24 [==============================] - 0s 2ms/step - loss: 0.6682 - accuracy: 0.3693\n",
      "Epoch 7/100\n",
      "24/24 [==============================] - 0s 1ms/step - loss: 0.6362 - accuracy: 0.5333\n",
      "Epoch 8/100\n",
      "24/24 [==============================] - 0s 1ms/step - loss: 0.6058 - accuracy: 0.6480\n",
      "Epoch 9/100\n",
      "24/24 [==============================] - 0s 1ms/step - loss: 0.5783 - accuracy: 0.6667\n",
      "Epoch 10/100\n",
      "24/24 [==============================] - 0s 1ms/step - loss: 0.5533 - accuracy: 0.6880\n",
      "Epoch 11/100\n",
      "24/24 [==============================] - 0s 1ms/step - loss: 0.5307 - accuracy: 0.7040\n",
      "Epoch 12/100\n",
      "24/24 [==============================] - 0s 997us/step - loss: 0.5099 - accuracy: 0.7227\n",
      "Epoch 13/100\n",
      "24/24 [==============================] - 0s 1ms/step - loss: 0.4910 - accuracy: 0.7347\n",
      "Epoch 14/100\n",
      "24/24 [==============================] - 0s 942us/step - loss: 0.4742 - accuracy: 0.8160\n",
      "Epoch 15/100\n",
      "24/24 [==============================] - 0s 867us/step - loss: 0.4583 - accuracy: 0.8307\n",
      "Epoch 16/100\n",
      "24/24 [==============================] - 0s 973us/step - loss: 0.4442 - accuracy: 0.8333\n",
      "Epoch 17/100\n",
      "24/24 [==============================] - 0s 1ms/step - loss: 0.4311 - accuracy: 0.8347\n",
      "Epoch 18/100\n",
      "24/24 [==============================] - 0s 957us/step - loss: 0.4191 - accuracy: 0.8360\n",
      "Epoch 19/100\n",
      "24/24 [==============================] - 0s 867us/step - loss: 0.4084 - accuracy: 0.8360\n",
      "Epoch 20/100\n",
      "24/24 [==============================] - 0s 1ms/step - loss: 0.3985 - accuracy: 0.8360\n",
      "Epoch 21/100\n",
      "24/24 [==============================] - 0s 841us/step - loss: 0.3894 - accuracy: 0.8387\n",
      "Epoch 22/100\n",
      "24/24 [==============================] - 0s 948us/step - loss: 0.3809 - accuracy: 0.8440\n",
      "Epoch 23/100\n",
      "24/24 [==============================] - 0s 728us/step - loss: 0.3734 - accuracy: 0.8440\n",
      "Epoch 24/100\n",
      "24/24 [==============================] - 0s 941us/step - loss: 0.3660 - accuracy: 0.8467\n",
      "Epoch 25/100\n",
      "24/24 [==============================] - 0s 737us/step - loss: 0.3595 - accuracy: 0.8480\n",
      "Epoch 26/100\n",
      "24/24 [==============================] - 0s 928us/step - loss: 0.3536 - accuracy: 0.8493\n",
      "Epoch 27/100\n",
      "24/24 [==============================] - 0s 1ms/step - loss: 0.3479 - accuracy: 0.8507\n",
      "Epoch 28/100\n",
      "24/24 [==============================] - 0s 1ms/step - loss: 0.3428 - accuracy: 0.8520\n",
      "Epoch 29/100\n",
      "24/24 [==============================] - 0s 1ms/step - loss: 0.3379 - accuracy: 0.8520\n",
      "Epoch 30/100\n",
      "24/24 [==============================] - 0s 1ms/step - loss: 0.3333 - accuracy: 0.8547\n",
      "Epoch 31/100\n",
      "24/24 [==============================] - 0s 1ms/step - loss: 0.3290 - accuracy: 0.8547\n",
      "Epoch 32/100\n",
      "24/24 [==============================] - 0s 1ms/step - loss: 0.3249 - accuracy: 0.8560\n",
      "Epoch 33/100\n",
      "24/24 [==============================] - 0s 867us/step - loss: 0.3210 - accuracy: 0.8600\n",
      "Epoch 34/100\n",
      "24/24 [==============================] - 0s 997us/step - loss: 0.3173 - accuracy: 0.8613\n",
      "Epoch 35/100\n",
      "24/24 [==============================] - 0s 921us/step - loss: 0.3139 - accuracy: 0.8627\n",
      "Epoch 36/100\n",
      "24/24 [==============================] - 0s 1ms/step - loss: 0.3107 - accuracy: 0.8653\n",
      "Epoch 37/100\n",
      "24/24 [==============================] - 0s 1ms/step - loss: 0.3075 - accuracy: 0.8653\n",
      "Epoch 38/100\n",
      "24/24 [==============================] - 0s 1ms/step - loss: 0.3047 - accuracy: 0.8667\n",
      "Epoch 39/100\n",
      "24/24 [==============================] - 0s 1ms/step - loss: 0.3020 - accuracy: 0.8667\n",
      "Epoch 40/100\n",
      "24/24 [==============================] - 0s 1ms/step - loss: 0.2994 - accuracy: 0.8667\n",
      "Epoch 41/100\n",
      "24/24 [==============================] - 0s 1ms/step - loss: 0.2970 - accuracy: 0.8680\n",
      "Epoch 42/100\n",
      "24/24 [==============================] - 0s 1ms/step - loss: 0.2946 - accuracy: 0.8680\n",
      "Epoch 43/100\n",
      "24/24 [==============================] - 0s 781us/step - loss: 0.2925 - accuracy: 0.8693\n",
      "Epoch 44/100\n",
      "24/24 [==============================] - 0s 1ms/step - loss: 0.2903 - accuracy: 0.8707\n",
      "Epoch 45/100\n",
      "24/24 [==============================] - 0s 780us/step - loss: 0.2884 - accuracy: 0.8707\n",
      "Epoch 46/100\n",
      "24/24 [==============================] - 0s 954us/step - loss: 0.2865 - accuracy: 0.8733\n",
      "Epoch 47/100\n",
      "24/24 [==============================] - 0s 744us/step - loss: 0.2845 - accuracy: 0.8733\n",
      "Epoch 48/100\n",
      "24/24 [==============================] - 0s 2ms/step - loss: 0.2827 - accuracy: 0.8747\n",
      "Epoch 49/100\n",
      "24/24 [==============================] - 0s 814us/step - loss: 0.2810 - accuracy: 0.8747\n",
      "Epoch 50/100\n",
      "24/24 [==============================] - 0s 891us/step - loss: 0.2792 - accuracy: 0.8747\n",
      "Epoch 51/100\n",
      "24/24 [==============================] - 0s 877us/step - loss: 0.2775 - accuracy: 0.8773\n",
      "Epoch 52/100\n",
      "24/24 [==============================] - 0s 993us/step - loss: 0.2759 - accuracy: 0.8787\n",
      "Epoch 53/100\n",
      "24/24 [==============================] - 0s 1ms/step - loss: 0.2743 - accuracy: 0.8787\n",
      "Epoch 54/100\n",
      "24/24 [==============================] - 0s 1ms/step - loss: 0.2727 - accuracy: 0.8800\n",
      "Epoch 55/100\n",
      "24/24 [==============================] - 0s 968us/step - loss: 0.2713 - accuracy: 0.8800\n",
      "Epoch 56/100\n",
      "24/24 [==============================] - 0s 938us/step - loss: 0.2698 - accuracy: 0.8800\n",
      "Epoch 57/100\n",
      "24/24 [==============================] - 0s 1ms/step - loss: 0.2685 - accuracy: 0.8800\n",
      "Epoch 58/100\n",
      "24/24 [==============================] - 0s 1ms/step - loss: 0.2671 - accuracy: 0.8800\n",
      "Epoch 59/100\n",
      "24/24 [==============================] - 0s 1ms/step - loss: 0.2658 - accuracy: 0.8800\n",
      "Epoch 60/100\n",
      "24/24 [==============================] - 0s 1ms/step - loss: 0.2645 - accuracy: 0.8800\n",
      "Epoch 61/100\n",
      "24/24 [==============================] - 0s 928us/step - loss: 0.2632 - accuracy: 0.8800\n",
      "Epoch 62/100\n",
      "24/24 [==============================] - 0s 890us/step - loss: 0.2620 - accuracy: 0.8813\n",
      "Epoch 63/100\n",
      "24/24 [==============================] - 0s 781us/step - loss: 0.2609 - accuracy: 0.8813\n",
      "Epoch 64/100\n",
      "24/24 [==============================] - 0s 1ms/step - loss: 0.2598 - accuracy: 0.8813\n",
      "Epoch 65/100\n",
      "24/24 [==============================] - 0s 740us/step - loss: 0.2588 - accuracy: 0.8813\n",
      "Epoch 66/100\n",
      "24/24 [==============================] - 0s 941us/step - loss: 0.2576 - accuracy: 0.8813\n",
      "Epoch 67/100\n",
      "24/24 [==============================] - 0s 766us/step - loss: 0.2567 - accuracy: 0.8840\n",
      "Epoch 68/100\n",
      "24/24 [==============================] - 0s 837us/step - loss: 0.2556 - accuracy: 0.8840\n",
      "Epoch 69/100\n",
      "24/24 [==============================] - 0s 1ms/step - loss: 0.2546 - accuracy: 0.8853\n",
      "Epoch 70/100\n",
      "24/24 [==============================] - 0s 1ms/step - loss: 0.2538 - accuracy: 0.8853\n",
      "Epoch 71/100\n",
      "24/24 [==============================] - 0s 824us/step - loss: 0.2526 - accuracy: 0.8867\n",
      "Epoch 72/100\n",
      "24/24 [==============================] - 0s 881us/step - loss: 0.2516 - accuracy: 0.8880\n",
      "Epoch 73/100\n",
      "24/24 [==============================] - 0s 852us/step - loss: 0.2508 - accuracy: 0.8880\n",
      "Epoch 74/100\n",
      "24/24 [==============================] - 0s 737us/step - loss: 0.2497 - accuracy: 0.8880\n",
      "Epoch 75/100\n",
      "24/24 [==============================] - 0s 969us/step - loss: 0.2486 - accuracy: 0.8880\n",
      "Epoch 76/100\n",
      "24/24 [==============================] - 0s 783us/step - loss: 0.2476 - accuracy: 0.8867\n",
      "Epoch 77/100\n",
      "24/24 [==============================] - 0s 811us/step - loss: 0.2467 - accuracy: 0.8880\n",
      "Epoch 78/100\n",
      "24/24 [==============================] - 0s 808us/step - loss: 0.2457 - accuracy: 0.8907\n",
      "Epoch 79/100\n",
      "24/24 [==============================] - 0s 848us/step - loss: 0.2448 - accuracy: 0.8920\n",
      "Epoch 80/100\n",
      "24/24 [==============================] - 0s 736us/step - loss: 0.2438 - accuracy: 0.8920\n",
      "Epoch 81/100\n",
      "24/24 [==============================] - 0s 874us/step - loss: 0.2428 - accuracy: 0.8920\n",
      "Epoch 82/100\n",
      "24/24 [==============================] - 0s 712us/step - loss: 0.2419 - accuracy: 0.8933\n",
      "Epoch 83/100\n",
      "24/24 [==============================] - 0s 836us/step - loss: 0.2410 - accuracy: 0.8947\n",
      "Epoch 84/100\n",
      "24/24 [==============================] - 0s 839us/step - loss: 0.2401 - accuracy: 0.8960\n",
      "Epoch 85/100\n",
      "24/24 [==============================] - 0s 791us/step - loss: 0.2392 - accuracy: 0.8960\n",
      "Epoch 86/100\n",
      "24/24 [==============================] - 0s 804us/step - loss: 0.2383 - accuracy: 0.8973\n",
      "Epoch 87/100\n",
      "24/24 [==============================] - 0s 785us/step - loss: 0.2375 - accuracy: 0.8987\n",
      "Epoch 88/100\n",
      "24/24 [==============================] - 0s 884us/step - loss: 0.2365 - accuracy: 0.8973\n",
      "Epoch 89/100\n",
      "24/24 [==============================] - 0s 792us/step - loss: 0.2356 - accuracy: 0.8973\n",
      "Epoch 90/100\n",
      "24/24 [==============================] - 0s 842us/step - loss: 0.2348 - accuracy: 0.8987\n",
      "Epoch 91/100\n",
      "24/24 [==============================] - 0s 1ms/step - loss: 0.2340 - accuracy: 0.8973\n",
      "Epoch 92/100\n",
      "24/24 [==============================] - 0s 954us/step - loss: 0.2329 - accuracy: 0.8973\n",
      "Epoch 93/100\n",
      "24/24 [==============================] - 0s 1ms/step - loss: 0.2321 - accuracy: 0.8973\n",
      "Epoch 94/100\n",
      "24/24 [==============================] - 0s 694us/step - loss: 0.2312 - accuracy: 0.8987\n",
      "Epoch 95/100\n",
      "24/24 [==============================] - 0s 825us/step - loss: 0.2303 - accuracy: 0.8987\n",
      "Epoch 96/100\n",
      "24/24 [==============================] - 0s 869us/step - loss: 0.2294 - accuracy: 0.8987\n",
      "Epoch 97/100\n",
      "24/24 [==============================] - 0s 780us/step - loss: 0.2285 - accuracy: 0.9000\n",
      "Epoch 98/100\n",
      "24/24 [==============================] - 0s 958us/step - loss: 0.2277 - accuracy: 0.8987\n",
      "Epoch 99/100\n",
      "24/24 [==============================] - 0s 737us/step - loss: 0.2268 - accuracy: 0.9000\n",
      "Epoch 100/100\n",
      "24/24 [==============================] - 0s 904us/step - loss: 0.2260 - accuracy: 0.9000\n"
     ]
    }
   ],
   "source": [
    "# Compile the Sequential model together and customize metrics\n",
    "new_model.compile(loss=\"binary_crossentropy\", optimizer=\"adam\", metrics=[\"accuracy\"])\n",
    "\n",
    "# Fit the model to the training data\n",
    "new_fit_model = new_model.fit(X_moon_train_scaled, y_moon_train, epochs=100, shuffle=True)\n"
   ]
  }
 ],
 "metadata": {
  "interpreter": {
   "hash": "a191ab6f150cfb868dd12604f4e48c3680f71c6830cee286151ec0511f8f4bed"
  },
  "kernelspec": {
   "display_name": "Python 3.9.7 ('mlenv')",
   "language": "python",
   "name": "python3"
  },
  "language_info": {
   "codemirror_mode": {
    "name": "ipython",
    "version": 3
   },
   "file_extension": ".py",
   "mimetype": "text/x-python",
   "name": "python",
   "nbconvert_exporter": "python",
   "pygments_lexer": "ipython3",
   "version": "3.9.7"
  },
  "orig_nbformat": 4
 },
 "nbformat": 4,
 "nbformat_minor": 2
}
